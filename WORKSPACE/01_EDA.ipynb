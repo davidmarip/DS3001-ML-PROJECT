{
 "cells": [
  {
   "cell_type": "markdown",
   "id": "4ada9249",
   "metadata": {},
   "source": []
  },
  {
   "cell_type": "code",
   "execution_count": 1,
   "id": "13b54acf",
   "metadata": {},
   "outputs": [
    {
     "name": "stdout",
     "output_type": "stream",
     "text": [
      "Libraries loaded successfully\n",
      "Plotly configured for both HTML and PNG export\n"
     ]
    }
   ],
   "source": [
    "# Core libraries\n",
    "import pandas as pd\n",
    "import numpy as np\n",
    "import matplotlib.pyplot as plt\n",
    "import seaborn as sns\n",
    "import plotly.express as px\n",
    "import plotly.graph_objects as go\n",
    "from plotly.subplots import make_subplots\n",
    "import plotly.io as pio\n",
    "import warnings\n",
    "from pathlib import Path\n",
    "warnings.filterwarnings('ignore')\n",
    "\n",
    "# Configure Plotly for both HTML and PNG export\n",
    "pio.kaleido.scope.mathjax = None  # Disable MathJax for faster PNG export\n",
    "\n",
    "# Set style\n",
    "plt.style.use('seaborn-v0_8')\n",
    "sns.set_palette(\"husl\")\n",
    "\n",
    "# Create results directories\n",
    "results_dir = Path('../RESULTS')\n",
    "figures_dir = results_dir / 'figures'\n",
    "data_dir = results_dir / 'processed_data'\n",
    "\n",
    "for directory in [results_dir, figures_dir, data_dir]:\n",
    "    directory.mkdir(exist_ok=True)\n",
    "\n",
    "print(\"Libraries loaded successfully\")\n",
    "print(\"Plotly configured for both HTML and PNG export\")"
   ]
  },
  {
   "cell_type": "code",
   "execution_count": 2,
   "id": "bd46115b",
   "metadata": {},
   "outputs": [
    {
     "name": "stdout",
     "output_type": "stream",
     "text": [
      "Plot helper function ready\n"
     ]
    }
   ],
   "source": [
    "# Helper function to save plots in both formats\n",
    "def save_plotly_figure(fig, filename_base, show_fig=True):\n",
    "    \"\"\"Save Plotly figure as both HTML and PNG\"\"\"\n",
    "    try:\n",
    "        # Save as HTML (interactive)\n",
    "        fig.write_html(figures_dir / f'{filename_base}.html')\n",
    "        \n",
    "        # Save as PNG (static)\n",
    "        fig.write_image(figures_dir / f'{filename_base}.png', \n",
    "                       width=1200, height=800, scale=2)\n",
    "        \n",
    "        print(f\"Saved {filename_base} as both HTML and PNG\")\n",
    "    except Exception as e:\n",
    "        print(f\"Warning: Could not save PNG for {filename_base}: {e}\")\n",
    "        # Still save HTML even if PNG fails\n",
    "        fig.write_html(figures_dir / f'{filename_base}.html')\n",
    "        print(f\"Saved {filename_base} as HTML only\")\n",
    "    \n",
    "    if show_fig:\n",
    "        fig.show()\n",
    "\n",
    "print(\"Plot helper function ready\")"
   ]
  },
  {
   "cell_type": "markdown",
   "id": "afdf5175",
   "metadata": {},
   "source": [
    "## Dataset Loading and Overview"
   ]
  },
  {
   "cell_type": "code",
   "execution_count": 3,
   "id": "286fb20a",
   "metadata": {},
   "outputs": [
    {
     "name": "stdout",
     "output_type": "stream",
     "text": [
      "Branded Foods Dataset Shape: (1977398, 21)\n",
      "Food Nutrients Dataset Shape: (25652681, 11)\n",
      "Nutrient Reference Dataset Shape: (477, 5)\n",
      "\n",
      "Memory Usage:\n",
      "   Branded Foods: 2378.1 MB\n",
      "   Food Nutrients: 2152.9 MB\n",
      "\n",
      "Memory Usage:\n",
      "   Branded Foods: 2378.1 MB\n",
      "   Food Nutrients: 2152.9 MB\n"
     ]
    }
   ],
   "source": [
    "# Load main datasets\n",
    "branded_df = pd.read_csv(\"../DATA/branded_food.csv\")\n",
    "nutrient_df = pd.read_csv(\"../DATA/food_nutrient.csv\")\n",
    "nutrient_ref = pd.read_csv(\"../DATA/nutrient.csv\")\n",
    "\n",
    "print(f\"Branded Foods Dataset Shape: {branded_df.shape}\")\n",
    "print(f\"Food Nutrients Dataset Shape: {nutrient_df.shape}\")\n",
    "print(f\"Nutrient Reference Dataset Shape: {nutrient_ref.shape}\")\n",
    "\n",
    "# Memory usage\n",
    "branded_memory = branded_df.memory_usage(deep=True).sum() / 1024**2\n",
    "nutrient_memory = nutrient_df.memory_usage(deep=True).sum() / 1024**2\n",
    "\n",
    "print(f\"\\nMemory Usage:\")\n",
    "print(f\"   Branded Foods: {branded_memory:.1f} MB\")\n",
    "print(f\"   Food Nutrients: {nutrient_memory:.1f} MB\")"
   ]
  },
  {
   "cell_type": "code",
   "execution_count": 4,
   "id": "210e8cf2",
   "metadata": {},
   "outputs": [
    {
     "name": "stdout",
     "output_type": "stream",
     "text": [
      "BRANDED FOODS DATASET STRUCTURE\n",
      "==================================================\n",
      "<class 'pandas.core.frame.DataFrame'>\n",
      "RangeIndex: 1977398 entries, 0 to 1977397\n",
      "Data columns (total 21 columns):\n",
      " #   Column                       Dtype  \n",
      "---  ------                       -----  \n",
      " 0   fdc_id                       int64  \n",
      " 1   brand_owner                  object \n",
      " 2   brand_name                   object \n",
      " 3   subbrand_name                object \n",
      " 4   gtin_upc                     object \n",
      " 5   ingredients                  object \n",
      " 6   not_a_significant_source_of  object \n",
      " 7   serving_size                 float64\n",
      " 8   serving_size_unit            object \n",
      " 9   household_serving_fulltext   object \n",
      " 10  branded_food_category        object \n",
      " 11  data_source                  object \n",
      " 12  package_weight               object \n",
      " 13  modified_date                object \n",
      " 14  available_date               object \n",
      " 15  market_country               object \n",
      " 16  discontinued_date            object \n",
      " 17  preparation_state_code       object \n",
      " 18  trade_channel                object \n",
      " 19  short_description            object \n",
      " 20  material_code                float64\n",
      "dtypes: float64(2), int64(1), object(18)\n",
      "memory usage: 316.8+ MB\n",
      "\n",
      "Column Descriptions:\n",
      "  fdc_id                   : 1,977,398 non-null (  0.0% missing)\n",
      "  brand_owner              : 1,960,166 non-null (  0.9% missing)\n",
      "  brand_name               : 1,432,502 non-null ( 27.6% missing)\n",
      "  subbrand_name            : 105,791 non-null ( 94.6% missing)\n",
      "  gtin_upc                 : 1,977,398 non-null (  0.0% missing)\n",
      "  subbrand_name            : 105,791 non-null ( 94.6% missing)\n",
      "  gtin_upc                 : 1,977,398 non-null (  0.0% missing)\n",
      "  ingredients              : 1,972,025 non-null (  0.3% missing)\n",
      "  not_a_significant_source_of: 79,615 non-null ( 96.0% missing)\n",
      "  serving_size             : 1,966,645 non-null (  0.5% missing)\n",
      "  serving_size_unit        : 1,958,400 non-null (  1.0% missing)\n",
      "  ingredients              : 1,972,025 non-null (  0.3% missing)\n",
      "  not_a_significant_source_of: 79,615 non-null ( 96.0% missing)\n",
      "  serving_size             : 1,966,645 non-null (  0.5% missing)\n",
      "  serving_size_unit        : 1,958,400 non-null (  1.0% missing)\n",
      "  household_serving_fulltext: 1,936,089 non-null (  2.1% missing)\n",
      "  branded_food_category    : 1,966,768 non-null (  0.5% missing)\n",
      "  data_source              : 1,977,398 non-null (  0.0% missing)\n",
      "  package_weight           : 843,833 non-null ( 57.3% missing)\n",
      "  household_serving_fulltext: 1,936,089 non-null (  2.1% missing)\n",
      "  branded_food_category    : 1,966,768 non-null (  0.5% missing)\n",
      "  data_source              : 1,977,398 non-null (  0.0% missing)\n",
      "  package_weight           : 843,833 non-null ( 57.3% missing)\n",
      "  modified_date            : 1,977,378 non-null (  0.0% missing)\n",
      "  available_date           : 1,977,398 non-null (  0.0% missing)\n",
      "  market_country           : 1,977,398 non-null (  0.0% missing)\n",
      "  modified_date            : 1,977,378 non-null (  0.0% missing)\n",
      "  available_date           : 1,977,398 non-null (  0.0% missing)\n",
      "  market_country           : 1,977,398 non-null (  0.0% missing)\n",
      "  discontinued_date        : 3,246 non-null ( 99.8% missing)\n",
      "  preparation_state_code   : 81,910 non-null ( 95.9% missing)\n",
      "  trade_channel            : 33,938 non-null ( 98.3% missing)\n",
      "  short_description        : 82,007 non-null ( 95.9% missing)\n",
      "  material_code            : 1,323 non-null ( 99.9% missing)\n",
      "  discontinued_date        : 3,246 non-null ( 99.8% missing)\n",
      "  preparation_state_code   : 81,910 non-null ( 95.9% missing)\n",
      "  trade_channel            : 33,938 non-null ( 98.3% missing)\n",
      "  short_description        : 82,007 non-null ( 95.9% missing)\n",
      "  material_code            : 1,323 non-null ( 99.9% missing)\n"
     ]
    }
   ],
   "source": [
    "# Data types and basic info\n",
    "print(\"BRANDED FOODS DATASET STRUCTURE\")\n",
    "print(\"=\" * 50)\n",
    "branded_df.info()\n",
    "\n",
    "print(\"\\nColumn Descriptions:\")\n",
    "for col in branded_df.columns:\n",
    "    non_null = branded_df[col].notna().sum()\n",
    "    null_pct = (branded_df[col].isna().sum() / len(branded_df)) * 100\n",
    "    print(f\"  {col:25s}: {non_null:,} non-null ({null_pct:5.1f}% missing)\")"
   ]
  },
  {
   "cell_type": "markdown",
   "id": "a6c67a7b",
   "metadata": {},
   "source": [
    "## Missing Data Analysis"
   ]
  },
  {
   "cell_type": "code",
   "execution_count": 5,
   "id": "673c5fac",
   "metadata": {},
   "outputs": [
    {
     "data": {
      "image/png": "[encoded data removed]",
      "text/plain": [
       "<Figure size 1600x800 with 2 Axes>"
      ]
     },
     "metadata": {},
     "output_type": "display_data"
    },
    {
     "name": "stdout",
     "output_type": "stream",
     "text": [
      "\n",
      " Missing Data Summary:\n",
      "   Columns with missing data: 16\n",
      "   Most missing column: material_code (99.9%)\n",
      "   Least missing column: modified_date (0.0%)\n"
     ]
    }
   ],
   "source": [
    "# Missing data visualization\n",
    "missing_data = branded_df.isnull().sum().sort_values(ascending=False)\n",
    "missing_percent = (missing_data / len(branded_df)) * 100\n",
    "\n",
    "fig, (ax1, ax2) = plt.subplots(1, 2, figsize=(16, 8))\n",
    "\n",
    "# Missing data count\n",
    "missing_data[missing_data > 0].plot(kind='barh', ax=ax1, color='coral')\n",
    "ax1.set_title('Missing Data Count by Column', fontsize=14, fontweight='bold')\n",
    "ax1.set_xlabel('Number of Missing Values')\n",
    "\n",
    "# Missing data percentage\n",
    "missing_percent[missing_percent > 0].plot(kind='barh', ax=ax2, color='lightcoral')\n",
    "ax2.set_title('Missing Data Percentage by Column', fontsize=14, fontweight='bold')\n",
    "ax2.set_xlabel('Percentage Missing')\n",
    "\n",
    "plt.tight_layout()\n",
    "plt.savefig(figures_dir / 'missing_data_analysis.png', dpi=300, bbox_inches='tight')\n",
    "plt.show()\n",
    "\n",
    "# Summary statistics\n",
    "print(\"\\n Missing Data Summary:\")\n",
    "print(f\"   Columns with missing data: {(missing_data > 0).sum()}\")\n",
    "print(f\"   Most missing column: {missing_data.index[0]} ({missing_percent.iloc[0]:.1f}%)\")\n",
    "print(f\"   Least missing column: {missing_data[missing_data > 0].index[-1]} ({missing_percent[missing_data > 0].iloc[-1]:.1f}%)\")"
   ]
  },
  {
   "cell_type": "markdown",
   "id": "7ddbfe61",
   "metadata": {},
   "source": [
    "## Brand & Category Analysis"
   ]
  },
  {
   "cell_type": "code",
   "execution_count": 6,
   "id": "4a5be29c",
   "metadata": {},
   "outputs": [
    {
     "name": "stdout",
     "output_type": "stream",
     "text": [
      "Saved top_brands_analysis as both HTML and PNG\n"
     ]
    },
    {
     "data": {
      "application/vnd.plotly.v1+json": {
       "config": {
        "plotlyServerURL": "https://plot.ly"
       },
       "data": [
        {
         "hovertemplate": "Number of Products=%{x}<br>Brand=%{y}<br>color=%{marker.color}<extra></extra>",
         "legendgroup": "",
         "marker": {
          "color": {
           "bdata": "Q7cAABKtAAD/eQAALHMAAO9uAAAzZgAAVFwAAIhaAABQRwAAh0EAAMZAAAByPQAAajsAACU7AABKOQAAiDcAAJM1AAAKMQAAaDAAADUwAAA=",
           "dtype": "i4"
          },
          "coloraxis": "coloraxis",
          "pattern": {
           "shape": ""
          }
         },
         "name": "",
         "orientation": "h",
         "showlegend": false,
         "textposition": "auto",
         "type": "bar",
         "x": {
          "bdata": "Q7cAABKtAAD/eQAALHMAAO9uAAAzZgAAVFwAAIhaAABQRwAAh0EAAMZAAAByPQAAajsAACU7AABKOQAAiDcAAJM1AAAKMQAAaDAAADUwAAA=",
          "dtype": "i4"
         },
         "xaxis": "x",
         "y": [
          "Wal-Mart Stores, Inc.",
          "Target Stores",
          "Meijer, Inc.",
          "Safeway, Inc.",
          "GENERAL MILLS SALES INC.",
          "Topco Associates, Inc.",
          "The Kroger Co.",
          "Hy-Vee, Inc.",
          "Supervalu, Inc.",
          "Whole Foods Market, Inc.",
          "Wakefern Food Corporation",
          "Wegmans Food Markets, Inc. ",
          "Giant Eagle, Inc.",
          "Harris-Teeter Inc.",
          "Nash Finch Company",
          "CAMPBELL SOUP COMPANY",
          "Tops Markets, LLC",
          "Weis Markets, Inc.",
          "Associated Wholesale Grocers, Inc.",
          "Schnuck Markets, Inc."
         ],
         "yaxis": "y"
        }
       ],
       "layout": {
        "barmode": "relative",
        "coloraxis": {
         "colorbar": {
          "title": {
           "text": "color"
          }
         },
         "colorscale": [
          [
           0,
           "#440154"
          ],
          [
           0.1111111111111111,
           "#482878"
          ],
          [
           0.2222222222222222,
           "#3e4989"
          ],
          [
           0.3333333333333333,
           "#31688e"
          ],
          [
           0.4444444444444444,
           "#26828e"
          ],
          [
           0.5555555555555556,
           "#1f9e89"
          ],
          [
           0.6666666666666666,
           "#35b779"
          ],
          [
           0.7777777777777778,
           "#6ece58"
          ],
          [
           0.8888888888888888,
           "#b5de2b"
          ],
          [
           1,
           "#fde725"
          ]
         ]
        },
        "height": 600,
        "legend": {
         "tracegroupgap": 0
        },
        "showlegend": false,
        "template": {
         "data": {
          "bar": [
           {
            "error_x": {
             "color": "#2a3f5f"
            },
            "error_y": {
             "color": "#2a3f5f"
            },
            "marker": {
             "line": {
              "color": "#E5ECF6",
              "width": 0.5
             },
             "pattern": {
              "fillmode": "overlay",
              "size": 10,
              "solidity": 0.2
             }
            },
            "type": "bar"
           }
          ],
          "barpolar": [
           {
            "marker": {
             "line": {
              "color": "#E5ECF6",
              "width": 0.5
             },
             "pattern": {
              "fillmode": "overlay",
              "size": 10,
              "solidity": 0.2
             }
            },
            "type": "barpolar"
           }
          ],
          "carpet": [
           {
            "aaxis": {
             "endlinecolor": "#2a3f5f",
             "gridcolor": "white",
             "linecolor": "white",
             "minorgridcolor": "white",
             "startlinecolor": "#2a3f5f"
            },
            "baxis": {
             "endlinecolor": "#2a3f5f",
             "gridcolor": "white",
             "linecolor": "white",
             "minorgridcolor": "white",
             "startlinecolor": "#2a3f5f"
            },
            "type": "carpet"
           }
          ],
          "choropleth": [
           {
            "colorbar": {
             "outlinewidth": 0,
             "ticks": ""
            },
            "type": "choropleth"
           }
          ],
          "contour": [
           {
            "colorbar": {
             "outlinewidth": 0,
             "ticks": ""
            },
            "colorscale": [
             [
              0,
              "#0d0887"
             ],
             [
              0.1111111111111111,
              "#46039f"
             ],
             [
              0.2222222222222222,
              "#7201a8"
             ],
             [
              0.3333333333333333,
              "#9c179e"
             ],
             [
              0.4444444444444444,
              "#bd3786"
             ],
             [
              0.5555555555555556,
              "#d8576b"
             ],
             [
              0.6666666666666666,
              "#ed7953"
             ],
             [
              0.7777777777777778,
              "#fb9f3a"
             ],
             [
              0.8888888888888888,
              "#fdca26"
             ],
             [
              1,
              "#f0f921"
             ]
            ],
            "type": "contour"
           }
          ],
          "contourcarpet": [
           {
            "colorbar": {
             "outlinewidth": 0,
             "ticks": ""
            },
            "type": "contourcarpet"
           }
          ],
          "heatmap": [
           {
            "colorbar": {
             "outlinewidth": 0,
             "ticks": ""
            },
            "colorscale": [
             [
              0,
              "#0d0887"
             ],
             [
              0.1111111111111111,
              "#46039f"
             ],
             [
              0.2222222222222222,
              "#7201a8"
             ],
             [
              0.3333333333333333,
              "#9c179e"
             ],
             [
              0.4444444444444444,
              "#bd3786"
             ],
             [
              0.5555555555555556,
              "#d8576b"
             ],
             [
              0.6666666666666666,
              "#ed7953"
             ],
             [
              0.7777777777777778,
              "#fb9f3a"
             ],
             [
              0.8888888888888888,
              "#fdca26"
             ],
             [
              1,
              "#f0f921"
             ]
            ],
            "type": "heatmap"
           }
          ],
          "histogram": [
           {
            "marker": {
             "pattern": {
              "fillmode": "overlay",
              "size": 10,
              "solidity": 0.2
             }
            },
            "type": "histogram"
           }
          ],
          "histogram2d": [
           {
            "colorbar": {
             "outlinewidth": 0,
             "ticks": ""
            },
            "colorscale": [
             [
              0,
              "#0d0887"
             ],
             [
              0.1111111111111111,
              "#46039f"
             ],
             [
              0.2222222222222222,
              "#7201a8"
             ],
             [
              0.3333333333333333,
              "#9c179e"
             ],
             [
              0.4444444444444444,
              "#bd3786"
             ],
             [
              0.5555555555555556,
              "#d8576b"
             ],
             [
              0.6666666666666666,
              "#ed7953"
             ],
             [
              0.7777777777777778,
              "#fb9f3a"
             ],
             [
              0.8888888888888888,
              "#fdca26"
             ],
             [
              1,
              "#f0f921"
             ]
            ],
            "type": "histogram2d"
           }
          ],
          "histogram2dcontour": [
           {
            "colorbar": {
             "outlinewidth": 0,
             "ticks": ""
            },
            "colorscale": [
             [
              0,
              "#0d0887"
             ],
             [
              0.1111111111111111,
              "#46039f"
             ],
             [
              0.2222222222222222,
              "#7201a8"
             ],
             [
              0.3333333333333333,
              "#9c179e"
             ],
             [
              0.4444444444444444,
              "#bd3786"
             ],
             [
              0.5555555555555556,
              "#d8576b"
             ],
             [
              0.6666666666666666,
              "#ed7953"
             ],
             [
              0.7777777777777778,
              "#fb9f3a"
             ],
             [
              0.8888888888888888,
              "#fdca26"
             ],
             [
              1,
              "#f0f921"
             ]
            ],
            "type": "histogram2dcontour"
           }
          ],
          "mesh3d": [
           {
            "colorbar": {
             "outlinewidth": 0,
             "ticks": ""
            },
            "type": "mesh3d"
           }
          ],
          "parcoords": [
           {
            "line": {
             "colorbar": {
              "outlinewidth": 0,
              "ticks": ""
             }
            },
            "type": "parcoords"
           }
          ],
          "pie": [
           {
            "automargin": true,
            "type": "pie"
           }
          ],
          "scatter": [
           {
            "fillpattern": {
             "fillmode": "overlay",
             "size": 10,
             "solidity": 0.2
            },
            "type": "scatter"
           }
          ],
          "scatter3d": [
           {
            "line": {
             "colorbar": {
              "outlinewidth": 0,
              "ticks": ""
             }
            },
            "marker": {
             "colorbar": {
              "outlinewidth": 0,
              "ticks": ""
             }
            },
            "type": "scatter3d"
           }
          ],
          "scattercarpet": [
           {
            "marker": {
             "colorbar": {
              "outlinewidth": 0,
              "ticks": ""
             }
            },
            "type": "scattercarpet"
           }
          ],
          "scattergeo": [
           {
            "marker": {
             "colorbar": {
              "outlinewidth": 0,
              "ticks": ""
             }
            },
            "type": "scattergeo"
           }
          ],
          "scattergl": [
           {
            "marker": {
             "colorbar": {
              "outlinewidth": 0,
              "ticks": ""
             }
            },
            "type": "scattergl"
           }
          ],
          "scattermap": [
           {
            "marker": {
             "colorbar": {
              "outlinewidth": 0,
              "ticks": ""
             }
            },
            "type": "scattermap"
           }
          ],
          "scattermapbox": [
           {
            "marker": {
             "colorbar": {
              "outlinewidth": 0,
              "ticks": ""
             }
            },
            "type": "scattermapbox"
           }
          ],
          "scatterpolar": [
           {
            "marker": {
             "colorbar": {
              "outlinewidth": 0,
              "ticks": ""
             }
            },
            "type": "scatterpolar"
           }
          ],
          "scatterpolargl": [
           {
            "marker": {
             "colorbar": {
              "outlinewidth": 0,
              "ticks": ""
             }
            },
            "type": "scatterpolargl"
           }
          ],
          "scatterternary": [
           {
            "marker": {
             "colorbar": {
              "outlinewidth": 0,
              "ticks": ""
             }
            },
            "type": "scatterternary"
           }
          ],
          "surface": [
           {
            "colorbar": {
             "outlinewidth": 0,
             "ticks": ""
            },
            "colorscale": [
             [
              0,
              "#0d0887"
             ],
             [
              0.1111111111111111,
              "#46039f"
             ],
             [
              0.2222222222222222,
              "#7201a8"
             ],
             [
              0.3333333333333333,
              "#9c179e"
             ],
             [
              0.4444444444444444,
              "#bd3786"
             ],
             [
              0.5555555555555556,
              "#d8576b"
             ],
             [
              0.6666666666666666,
              "#ed7953"
             ],
             [
              0.7777777777777778,
              "#fb9f3a"
             ],
             [
              0.8888888888888888,
              "#fdca26"
             ],
             [
              1,
              "#f0f921"
             ]
            ],
            "type": "surface"
           }
          ],
          "table": [
           {
            "cells": {
             "fill": {
              "color": "#EBF0F8"
             },
             "line": {
              "color": "white"
             }
            },
            "header": {
             "fill": {
              "color": "#C8D4E3"
             },
             "line": {
              "color": "white"
             }
            },
            "type": "table"
           }
          ]
         },
         "layout": {
          "annotationdefaults": {
           "arrowcolor": "#2a3f5f",
           "arrowhead": 0,
           "arrowwidth": 1
          },
          "autotypenumbers": "strict",
          "coloraxis": {
           "colorbar": {
            "outlinewidth": 0,
            "ticks": ""
           }
          },
          "colorscale": {
           "diverging": [
            [
             0,
             "#8e0152"
            ],
            [
             0.1,
             "#c51b7d"
            ],
            [
             0.2,
             "#de77ae"
            ],
            [
             0.3,
             "#f1b6da"
            ],
            [
             0.4,
             "#fde0ef"
            ],
            [
             0.5,
             "#f7f7f7"
            ],
            [
             0.6,
             "#e6f5d0"
            ],
            [
             0.7,
             "#b8e186"
            ],
            [
             0.8,
             "#7fbc41"
            ],
            [
             0.9,
             "#4d9221"
            ],
            [
             1,
             "#276419"
            ]
           ],
           "sequential": [
            [
             0,
             "#0d0887"
            ],
            [
             0.1111111111111111,
             "#46039f"
            ],
            [
             0.2222222222222222,
             "#7201a8"
            ],
            [
             0.3333333333333333,
             "#9c179e"
            ],
            [
             0.4444444444444444,
             "#bd3786"
            ],
            [
             0.5555555555555556,
             "#d8576b"
            ],
            [
             0.6666666666666666,
             "#ed7953"
            ],
            [
             0.7777777777777778,
             "#fb9f3a"
            ],
            [
             0.8888888888888888,
             "#fdca26"
            ],
            [
             1,
             "#f0f921"
            ]
           ],
           "sequentialminus": [
            [
             0,
             "#0d0887"
            ],
            [
             0.1111111111111111,
             "#46039f"
            ],
            [
             0.2222222222222222,
             "#7201a8"
            ],
            [
             0.3333333333333333,
             "#9c179e"
            ],
            [
             0.4444444444444444,
             "#bd3786"
            ],
            [
             0.5555555555555556,
             "#d8576b"
            ],
            [
             0.6666666666666666,
             "#ed7953"
            ],
            [
             0.7777777777777778,
             "#fb9f3a"
            ],
            [
             0.8888888888888888,
             "#fdca26"
            ],
            [
             1,
             "#f0f921"
            ]
           ]
          },
          "colorway": [
           "#636efa",
           "#EF553B",
           "#00cc96",
           "#ab63fa",
           "#FFA15A",
           "#19d3f3",
           "#FF6692",
           "#B6E880",
           "#FF97FF",
           "#FECB52"
          ],
          "font": {
           "color": "#2a3f5f"
          },
          "geo": {
           "bgcolor": "white",
           "lakecolor": "white",
           "landcolor": "#E5ECF6",
           "showlakes": true,
           "showland": true,
           "subunitcolor": "white"
          },
          "hoverlabel": {
           "align": "left"
          },
          "hovermode": "closest",
          "mapbox": {
           "style": "light"
          },
          "paper_bgcolor": "white",
          "plot_bgcolor": "#E5ECF6",
          "polar": {
           "angularaxis": {
            "gridcolor": "white",
            "linecolor": "white",
            "ticks": ""
           },
           "bgcolor": "#E5ECF6",
           "radialaxis": {
            "gridcolor": "white",
            "linecolor": "white",
            "ticks": ""
           }
          },
          "scene": {
           "xaxis": {
            "backgroundcolor": "#E5ECF6",
            "gridcolor": "white",
            "gridwidth": 2,
            "linecolor": "white",
            "showbackground": true,
            "ticks": "",
            "zerolinecolor": "white"
           },
           "yaxis": {
            "backgroundcolor": "#E5ECF6",
            "gridcolor": "white",
            "gridwidth": 2,
            "linecolor": "white",
            "showbackground": true,
            "ticks": "",
            "zerolinecolor": "white"
           },
           "zaxis": {
            "backgroundcolor": "#E5ECF6",
            "gridcolor": "white",
            "gridwidth": 2,
            "linecolor": "white",
            "showbackground": true,
            "ticks": "",
            "zerolinecolor": "white"
           }
          },
          "shapedefaults": {
           "line": {
            "color": "#2a3f5f"
           }
          },
          "ternary": {
           "aaxis": {
            "gridcolor": "white",
            "linecolor": "white",
            "ticks": ""
           },
           "baxis": {
            "gridcolor": "white",
            "linecolor": "white",
            "ticks": ""
           },
           "bgcolor": "#E5ECF6",
           "caxis": {
            "gridcolor": "white",
            "linecolor": "white",
            "ticks": ""
           }
          },
          "title": {
           "x": 0.05
          },
          "xaxis": {
           "automargin": true,
           "gridcolor": "white",
           "linecolor": "white",
           "ticks": "",
           "title": {
            "standoff": 15
           },
           "zerolinecolor": "white",
           "zerolinewidth": 2
          },
          "yaxis": {
           "automargin": true,
           "gridcolor": "white",
           "linecolor": "white",
           "ticks": "",
           "title": {
            "standoff": 15
           },
           "zerolinecolor": "white",
           "zerolinewidth": 2
          }
         }
        },
        "title": {
         "text": "Top 20 Brands by Number of Products"
        },
        "xaxis": {
         "anchor": "y",
         "domain": [
          0,
          1
         ],
         "title": {
          "text": "Number of Products"
         }
        },
        "yaxis": {
         "anchor": "x",
         "domain": [
          0,
          1
         ],
         "title": {
          "text": "Brand"
         }
        }
       }
      }
     },
     "metadata": {},
     "output_type": "display_data"
    },
    {
     "name": "stdout",
     "output_type": "stream",
     "text": [
      "\n",
      " Brand Statistics:\n",
      "   Total unique brands: 37,032\n",
      "   Top brand: Wal-Mart Stores, Inc. (46,915 products)\n",
      "   Average products per brand: 52.9\n"
     ]
    }
   ],
   "source": [
    "# Top brands analysis\n",
    "top_brands = branded_df['brand_owner'].value_counts().head(20)\n",
    "\n",
    "# Interactive plot with Plotly\n",
    "fig = px.bar(\n",
    "    x=top_brands.values,\n",
    "    y=top_brands.index,\n",
    "    orientation='h',\n",
    "    title=\"Top 20 Brands by Number of Products\",\n",
    "    labels={'x': 'Number of Products', 'y': 'Brand'},\n",
    "    color=top_brands.values,\n",
    "    color_continuous_scale='Viridis'\n",
    ")\n",
    "fig.update_layout(height=600, showlegend=False)\n",
    "\n",
    "# Save in both formats\n",
    "save_plotly_figure(fig, 'top_brands_analysis')\n",
    "\n",
    "print(f\"\\n Brand Statistics:\")\n",
    "print(f\"   Total unique brands: {branded_df['brand_owner'].nunique():,}\")\n",
    "print(f\"   Top brand: {top_brands.index[0]} ({top_brands.iloc[0]:,} products)\")\n",
    "print(f\"   Average products per brand: {branded_df['brand_owner'].value_counts().mean():.1f}\")"
   ]
  },
  {
   "cell_type": "code",
   "execution_count": 7,
   "id": "32879886",
   "metadata": {},
   "outputs": [
    {
     "name": "stdout",
     "output_type": "stream",
     "text": [
      "Saved food_categories_distribution as both HTML and PNG\n"
     ]
    },
    {
     "data": {
      "application/vnd.plotly.v1+json": {
       "config": {
        "plotlyServerURL": "https://plot.ly"
       },
       "data": [
        {
         "domain": {
          "x": [
           0,
           1
          ],
          "y": [
           0,
           1
          ]
         },
         "hovertemplate": "label=%{label}<br>value=%{value}<extra></extra>",
         "labels": [
          "Popcorn, Peanuts, Seeds & Related Snacks",
          "Candy",
          "Cheese",
          "Ice Cream & Frozen Yogurt",
          "Cookies & Biscuits",
          "Chips, Pretzels & Snacks",
          "Breads & Buns",
          "Pickles, Olives, Peppers & Relishes",
          "Chocolate",
          "Fruit & Vegetable Juice, Nectars & Fruit Drinks",
          "Snack, Energy & Granola Bars",
          "Cakes, Cupcakes, Snack Cakes",
          "Yogurt",
          "Cereal",
          "Seasoning Mixes, Salts, Marinades & Tenderizers"
         ],
         "legendgroup": "",
         "name": "",
         "showlegend": true,
         "textinfo": "percent+label",
         "textposition": "inside",
         "type": "pie",
         "values": {
          "bdata": "42UBAOtaAQB2OwEAyewAADTQAADOxQAAXLcAALWsAADooQAATaAAALebAADflAAA044AAD+OAAC4hQAA",
          "dtype": "i4"
         }
        }
       ],
       "layout": {
        "height": 600,
        "legend": {
         "tracegroupgap": 0
        },
        "template": {
         "data": {
          "bar": [
           {
            "error_x": {
             "color": "#2a3f5f"
            },
            "error_y": {
             "color": "#2a3f5f"
            },
            "marker": {
             "line": {
              "color": "#E5ECF6",
              "width": 0.5
             },
             "pattern": {
              "fillmode": "overlay",
              "size": 10,
              "solidity": 0.2
             }
            },
            "type": "bar"
           }
          ],
          "barpolar": [
           {
            "marker": {
             "line": {
              "color": "#E5ECF6",
              "width": 0.5
             },
             "pattern": {
              "fillmode": "overlay",
              "size": 10,
              "solidity": 0.2
             }
            },
            "type": "barpolar"
           }
          ],
          "carpet": [
           {
            "aaxis": {
             "endlinecolor": "#2a3f5f",
             "gridcolor": "white",
             "linecolor": "white",
             "minorgridcolor": "white",
             "startlinecolor": "#2a3f5f"
            },
            "baxis": {
             "endlinecolor": "#2a3f5f",
             "gridcolor": "white",
             "linecolor": "white",
             "minorgridcolor": "white",
             "startlinecolor": "#2a3f5f"
            },
            "type": "carpet"
           }
          ],
          "choropleth": [
           {
            "colorbar": {
             "outlinewidth": 0,
             "ticks": ""
            },
            "type": "choropleth"
           }
          ],
          "contour": [
           {
            "colorbar": {
             "outlinewidth": 0,
             "ticks": ""
            },
            "colorscale": [
             [
              0,
              "#0d0887"
             ],
             [
              0.1111111111111111,
              "#46039f"
             ],
             [
              0.2222222222222222,
              "#7201a8"
             ],
             [
              0.3333333333333333,
              "#9c179e"
             ],
             [
              0.4444444444444444,
              "#bd3786"
             ],
             [
              0.5555555555555556,
              "#d8576b"
             ],
             [
              0.6666666666666666,
              "#ed7953"
             ],
             [
              0.7777777777777778,
              "#fb9f3a"
             ],
             [
              0.8888888888888888,
              "#fdca26"
             ],
             [
              1,
              "#f0f921"
             ]
            ],
            "type": "contour"
           }
          ],
          "contourcarpet": [
           {
            "colorbar": {
             "outlinewidth": 0,
             "ticks": ""
            },
            "type": "contourcarpet"
           }
          ],
          "heatmap": [
           {
            "colorbar": {
             "outlinewidth": 0,
             "ticks": ""
            },
            "colorscale": [
             [
              0,
              "#0d0887"
             ],
             [
              0.1111111111111111,
              "#46039f"
             ],
             [
              0.2222222222222222,
              "#7201a8"
             ],
             [
              0.3333333333333333,
              "#9c179e"
             ],
             [
              0.4444444444444444,
              "#bd3786"
             ],
             [
              0.5555555555555556,
              "#d8576b"
             ],
             [
              0.6666666666666666,
              "#ed7953"
             ],
             [
              0.7777777777777778,
              "#fb9f3a"
             ],
             [
              0.8888888888888888,
              "#fdca26"
             ],
             [
              1,
              "#f0f921"
             ]
            ],
            "type": "heatmap"
           }
          ],
          "histogram": [
           {
            "marker": {
             "pattern": {
              "fillmode": "overlay",
              "size": 10,
              "solidity": 0.2
             }
            },
            "type": "histogram"
           }
          ],
          "histogram2d": [
           {
            "colorbar": {
             "outlinewidth": 0,
             "ticks": ""
            },
            "colorscale": [
             [
              0,
              "#0d0887"
             ],
             [
              0.1111111111111111,
              "#46039f"
             ],
             [
              0.2222222222222222,
              "#7201a8"
             ],
             [
              0.3333333333333333,
              "#9c179e"
             ],
             [
              0.4444444444444444,
              "#bd3786"
             ],
             [
              0.5555555555555556,
              "#d8576b"
             ],
             [
              0.6666666666666666,
              "#ed7953"
             ],
             [
              0.7777777777777778,
              "#fb9f3a"
             ],
             [
              0.8888888888888888,
              "#fdca26"
             ],
             [
              1,
              "#f0f921"
             ]
            ],
            "type": "histogram2d"
           }
          ],
          "histogram2dcontour": [
           {
            "colorbar": {
             "outlinewidth": 0,
             "ticks": ""
            },
            "colorscale": [
             [
              0,
              "#0d0887"
             ],
             [
              0.1111111111111111,
              "#46039f"
             ],
             [
              0.2222222222222222,
              "#7201a8"
             ],
             [
              0.3333333333333333,
              "#9c179e"
             ],
             [
              0.4444444444444444,
              "#bd3786"
             ],
             [
              0.5555555555555556,
              "#d8576b"
             ],
             [
              0.6666666666666666,
              "#ed7953"
             ],
             [
              0.7777777777777778,
              "#fb9f3a"
             ],
             [
              0.8888888888888888,
              "#fdca26"
             ],
             [
              1,
              "#f0f921"
             ]
            ],
            "type": "histogram2dcontour"
           }
          ],
          "mesh3d": [
           {
            "colorbar": {
             "outlinewidth": 0,
             "ticks": ""
            },
            "type": "mesh3d"
           }
          ],
          "parcoords": [
           {
            "line": {
             "colorbar": {
              "outlinewidth": 0,
              "ticks": ""
             }
            },
            "type": "parcoords"
           }
          ],
          "pie": [
           {
            "automargin": true,
            "type": "pie"
           }
          ],
          "scatter": [
           {
            "fillpattern": {
             "fillmode": "overlay",
             "size": 10,
             "solidity": 0.2
            },
            "type": "scatter"
           }
          ],
          "scatter3d": [
           {
            "line": {
             "colorbar": {
              "outlinewidth": 0,
              "ticks": ""
             }
            },
            "marker": {
             "colorbar": {
              "outlinewidth": 0,
              "ticks": ""
             }
            },
            "type": "scatter3d"
           }
          ],
          "scattercarpet": [
           {
            "marker": {
             "colorbar": {
              "outlinewidth": 0,
              "ticks": ""
             }
            },
            "type": "scattercarpet"
           }
          ],
          "scattergeo": [
           {
            "marker": {
             "colorbar": {
              "outlinewidth": 0,
              "ticks": ""
             }
            },
            "type": "scattergeo"
           }
          ],
          "scattergl": [
           {
            "marker": {
             "colorbar": {
              "outlinewidth": 0,
              "ticks": ""
             }
            },
            "type": "scattergl"
           }
          ],
          "scattermap": [
           {
            "marker": {
             "colorbar": {
              "outlinewidth": 0,
              "ticks": ""
             }
            },
            "type": "scattermap"
           }
          ],
          "scattermapbox": [
           {
            "marker": {
             "colorbar": {
              "outlinewidth": 0,
              "ticks": ""
             }
            },
            "type": "scattermapbox"
           }
          ],
          "scatterpolar": [
           {
            "marker": {
             "colorbar": {
              "outlinewidth": 0,
              "ticks": ""
             }
            },
            "type": "scatterpolar"
           }
          ],
          "scatterpolargl": [
           {
            "marker": {
             "colorbar": {
              "outlinewidth": 0,
              "ticks": ""
             }
            },
            "type": "scatterpolargl"
           }
          ],
          "scatterternary": [
           {
            "marker": {
             "colorbar": {
              "outlinewidth": 0,
              "ticks": ""
             }
            },
            "type": "scatterternary"
           }
          ],
          "surface": [
           {
            "colorbar": {
             "outlinewidth": 0,
             "ticks": ""
            },
            "colorscale": [
             [
              0,
              "#0d0887"
             ],
             [
              0.1111111111111111,
              "#46039f"
             ],
             [
              0.2222222222222222,
              "#7201a8"
             ],
             [
              0.3333333333333333,
              "#9c179e"
             ],
             [
              0.4444444444444444,
              "#bd3786"
             ],
             [
              0.5555555555555556,
              "#d8576b"
             ],
             [
              0.6666666666666666,
              "#ed7953"
             ],
             [
              0.7777777777777778,
              "#fb9f3a"
             ],
             [
              0.8888888888888888,
              "#fdca26"
             ],
             [
              1,
              "#f0f921"
             ]
            ],
            "type": "surface"
           }
          ],
          "table": [
           {
            "cells": {
             "fill": {
              "color": "#EBF0F8"
             },
             "line": {
              "color": "white"
             }
            },
            "header": {
             "fill": {
              "color": "#C8D4E3"
             },
             "line": {
              "color": "white"
             }
            },
            "type": "table"
           }
          ]
         },
         "layout": {
          "annotationdefaults": {
           "arrowcolor": "#2a3f5f",
           "arrowhead": 0,
           "arrowwidth": 1
          },
          "autotypenumbers": "strict",
          "coloraxis": {
           "colorbar": {
            "outlinewidth": 0,
            "ticks": ""
           }
          },
          "colorscale": {
           "diverging": [
            [
             0,
             "#8e0152"
            ],
            [
             0.1,
             "#c51b7d"
            ],
            [
             0.2,
             "#de77ae"
            ],
            [
             0.3,
             "#f1b6da"
            ],
            [
             0.4,
             "#fde0ef"
            ],
            [
             0.5,
             "#f7f7f7"
            ],
            [
             0.6,
             "#e6f5d0"
            ],
            [
             0.7,
             "#b8e186"
            ],
            [
             0.8,
             "#7fbc41"
            ],
            [
             0.9,
             "#4d9221"
            ],
            [
             1,
             "#276419"
            ]
           ],
           "sequential": [
            [
             0,
             "#0d0887"
            ],
            [
             0.1111111111111111,
             "#46039f"
            ],
            [
             0.2222222222222222,
             "#7201a8"
            ],
            [
             0.3333333333333333,
             "#9c179e"
            ],
            [
             0.4444444444444444,
             "#bd3786"
            ],
            [
             0.5555555555555556,
             "#d8576b"
            ],
            [
             0.6666666666666666,
             "#ed7953"
            ],
            [
             0.7777777777777778,
             "#fb9f3a"
            ],
            [
             0.8888888888888888,
             "#fdca26"
            ],
            [
             1,
             "#f0f921"
            ]
           ],
           "sequentialminus": [
            [
             0,
             "#0d0887"
            ],
            [
             0.1111111111111111,
             "#46039f"
            ],
            [
             0.2222222222222222,
             "#7201a8"
            ],
            [
             0.3333333333333333,
             "#9c179e"
            ],
            [
             0.4444444444444444,
             "#bd3786"
            ],
            [
             0.5555555555555556,
             "#d8576b"
            ],
            [
             0.6666666666666666,
             "#ed7953"
            ],
            [
             0.7777777777777778,
             "#fb9f3a"
            ],
            [
             0.8888888888888888,
             "#fdca26"
            ],
            [
             1,
             "#f0f921"
            ]
           ]
          },
          "colorway": [
           "#636efa",
           "#EF553B",
           "#00cc96",
           "#ab63fa",
           "#FFA15A",
           "#19d3f3",
           "#FF6692",
           "#B6E880",
           "#FF97FF",
           "#FECB52"
          ],
          "font": {
           "color": "#2a3f5f"
          },
          "geo": {
           "bgcolor": "white",
           "lakecolor": "white",
           "landcolor": "#E5ECF6",
           "showlakes": true,
           "showland": true,
           "subunitcolor": "white"
          },
          "hoverlabel": {
           "align": "left"
          },
          "hovermode": "closest",
          "mapbox": {
           "style": "light"
          },
          "paper_bgcolor": "white",
          "plot_bgcolor": "#E5ECF6",
          "polar": {
           "angularaxis": {
            "gridcolor": "white",
            "linecolor": "white",
            "ticks": ""
           },
           "bgcolor": "#E5ECF6",
           "radialaxis": {
            "gridcolor": "white",
            "linecolor": "white",
            "ticks": ""
           }
          },
          "scene": {
           "xaxis": {
            "backgroundcolor": "#E5ECF6",
            "gridcolor": "white",
            "gridwidth": 2,
            "linecolor": "white",
            "showbackground": true,
            "ticks": "",
            "zerolinecolor": "white"
           },
           "yaxis": {
            "backgroundcolor": "#E5ECF6",
            "gridcolor": "white",
            "gridwidth": 2,
            "linecolor": "white",
            "showbackground": true,
            "ticks": "",
            "zerolinecolor": "white"
           },
           "zaxis": {
            "backgroundcolor": "#E5ECF6",
            "gridcolor": "white",
            "gridwidth": 2,
            "linecolor": "white",
            "showbackground": true,
            "ticks": "",
            "zerolinecolor": "white"
           }
          },
          "shapedefaults": {
           "line": {
            "color": "#2a3f5f"
           }
          },
          "ternary": {
           "aaxis": {
            "gridcolor": "white",
            "linecolor": "white",
            "ticks": ""
           },
           "baxis": {
            "gridcolor": "white",
            "linecolor": "white",
            "ticks": ""
           },
           "bgcolor": "#E5ECF6",
           "caxis": {
            "gridcolor": "white",
            "linecolor": "white",
            "ticks": ""
           }
          },
          "title": {
           "x": 0.05
          },
          "xaxis": {
           "automargin": true,
           "gridcolor": "white",
           "linecolor": "white",
           "ticks": "",
           "title": {
            "standoff": 15
           },
           "zerolinecolor": "white",
           "zerolinewidth": 2
          },
          "yaxis": {
           "automargin": true,
           "gridcolor": "white",
           "linecolor": "white",
           "ticks": "",
           "title": {
            "standoff": 15
           },
           "zerolinecolor": "white",
           "zerolinewidth": 2
          }
         }
        },
        "title": {
         "text": "Top 15 Food Categories Distribution"
        }
       }
      }
     },
     "metadata": {},
     "output_type": "display_data"
    },
    {
     "name": "stdout",
     "output_type": "stream",
     "text": [
      "\n",
      " Category Statistics:\n",
      "   Total unique categories: 447\n",
      "   Most common category: Popcorn, Peanuts, Seeds & Related Snacks (91,619 products)\n"
     ]
    }
   ],
   "source": [
    "# Food categories analysis\n",
    "top_categories = branded_df['branded_food_category'].value_counts().head(15)\n",
    "\n",
    "# Create pie chart\n",
    "fig = px.pie(\n",
    "    values=top_categories.values,\n",
    "    names=top_categories.index,\n",
    "    title=\"Top 15 Food Categories Distribution\"\n",
    ")\n",
    "fig.update_traces(textposition='inside', textinfo='percent+label')\n",
    "fig.update_layout(height=600)\n",
    "\n",
    "# Save in both formats\n",
    "save_plotly_figure(fig, 'food_categories_distribution')\n",
    "\n",
    "print(f\"\\n Category Statistics:\")\n",
    "print(f\"   Total unique categories: {branded_df['branded_food_category'].nunique():,}\")\n",
    "print(f\"   Most common category: {top_categories.index[0]} ({top_categories.iloc[0]:,} products)\")"
   ]
  },
  {
   "cell_type": "markdown",
   "id": "b1158e6a",
   "metadata": {},
   "source": [
    "## Ingredients Analysis Preview"
   ]
  },
  {
   "cell_type": "code",
   "execution_count": 8,
   "id": "026ab5dd",
   "metadata": {},
   "outputs": [
    {
     "name": "stdout",
     "output_type": "stream",
     "text": [
      " Ingredients Data Availability:\n",
      "   Products with ingredients: 1,972,025 (99.7%)\n",
      "   Products missing ingredients: 5,373 (0.3%)\n",
      "\n",
      " Sample Ingredients Lists:\n",
      "   1. Vegetable Oil\n",
      "   2. INGREDIENTS: BEEF STOCK, CONTAINS LESS THAN 2% OF: MIREPOIX (CARROTS, CELERY, ONIONS), SALT, NATURAL...\n",
      "   3. INGREDIENTS: CLAM STOCK, POTATOES, CLAMS, CREAM, VEGETABLE OIL (CORN, CANOLA, AND/OR SOYBEAN), CELER...\n",
      "   4. INGREDIENTS: WATER, CREAM, BROCCOLI, CELERY, VEGETABLE OIL (CORN, CANOLA, AND/OR SOYBEAN), MODIFIED ...\n",
      "   5. INGREDIENTS: CHICKEN STOCK, CONTAINS LESS THAN 2% OF: YEAST EXTRACT, DEHYDRATED CHICKEN, NATURAL FLA...\n",
      "\n",
      " Sample Ingredients Lists:\n",
      "   1. Vegetable Oil\n",
      "   2. INGREDIENTS: BEEF STOCK, CONTAINS LESS THAN 2% OF: MIREPOIX (CARROTS, CELERY, ONIONS), SALT, NATURAL...\n",
      "   3. INGREDIENTS: CLAM STOCK, POTATOES, CLAMS, CREAM, VEGETABLE OIL (CORN, CANOLA, AND/OR SOYBEAN), CELER...\n",
      "   4. INGREDIENTS: WATER, CREAM, BROCCOLI, CELERY, VEGETABLE OIL (CORN, CANOLA, AND/OR SOYBEAN), MODIFIED ...\n",
      "   5. INGREDIENTS: CHICKEN STOCK, CONTAINS LESS THAN 2% OF: YEAST EXTRACT, DEHYDRATED CHICKEN, NATURAL FLA...\n"
     ]
    }
   ],
   "source": [
    "# Basic ingredients analysis\n",
    "ingredients_available = branded_df['ingredients'].notna().sum()\n",
    "ingredients_missing = branded_df['ingredients'].isna().sum()\n",
    "\n",
    "print(f\" Ingredients Data Availability:\")\n",
    "print(f\"   Products with ingredients: {ingredients_available:,} ({ingredients_available/len(branded_df)*100:.1f}%)\")\n",
    "print(f\"   Products missing ingredients: {ingredients_missing:,} ({ingredients_missing/len(branded_df)*100:.1f}%)\")\n",
    "\n",
    "# Sample ingredients (first few non-null)\n",
    "sample_ingredients = branded_df[branded_df['ingredients'].notna()]['ingredients'].head(5)\n",
    "print(\"\\n Sample Ingredients Lists:\")\n",
    "for i, ing in enumerate(sample_ingredients, 1):\n",
    "    print(f\"   {i}. {ing[:100]}{'...' if len(ing) > 100 else ''}\")"
   ]
  },
  {
   "cell_type": "markdown",
   "id": "59f2dd3e",
   "metadata": {},
   "source": [
    "## Nutritional Data Overview"
   ]
  },
  {
   "cell_type": "code",
   "execution_count": 9,
   "id": "de522f9b",
   "metadata": {},
   "outputs": [
    {
     "name": "stdout",
     "output_type": "stream",
     "text": [
      "Nutritional Data Overview:\n",
      "   Total nutrient records: 25,652,681\n",
      "   Unique nutrients tracked: 110\n",
      "   Unique nutrients tracked: 110\n",
      "   Products with nutrition data: 1,873,698\n",
      "\n",
      " Key Nutrient Coverage:\n",
      "   Products with nutrition data: 1,873,698\n",
      "\n",
      " Key Nutrient Coverage:\n",
      "   Protein        : 1,861,719 products\n",
      "   Total Fat      : 1,840,594 products\n",
      "   Protein        : 1,861,719 products\n",
      "   Total Fat      : 1,840,594 products\n",
      "   Carbohydrates  : 1,852,738 products\n",
      "   Energy (Calories): 1,841,010 products\n",
      "   Carbohydrates  : 1,852,738 products\n",
      "   Energy (Calories): 1,841,010 products\n",
      "   Sodium         : 1,847,798 products\n",
      "   Fiber          : 1,568,179 products\n",
      "   Sodium         : 1,847,798 products\n",
      "   Fiber          : 1,568,179 products\n"
     ]
    }
   ],
   "source": [
    "# Key nutrients analysis\n",
    "key_nutrients = {\n",
    "    1003: 'Protein',\n",
    "    1004: 'Total Fat',\n",
    "    1005: 'Carbohydrates',\n",
    "    1008: 'Energy (Calories)',\n",
    "    1093: 'Sodium',\n",
    "    1079: 'Fiber'\n",
    "}\n",
    "\n",
    "# Get nutrient data for key nutrients\n",
    "key_nutrient_data = nutrient_df[nutrient_df['nutrient_id'].isin(key_nutrients.keys())]\n",
    "\n",
    "print(f\"Nutritional Data Overview:\")\n",
    "print(f\"   Total nutrient records: {len(nutrient_df):,}\")\n",
    "print(f\"   Unique nutrients tracked: {nutrient_df['nutrient_id'].nunique():,}\")\n",
    "print(f\"   Products with nutrition data: {nutrient_df['fdc_id'].nunique():,}\")\n",
    "\n",
    "# Coverage for key nutrients\n",
    "print(\"\\n Key Nutrient Coverage:\")\n",
    "for nutrient_id, name in key_nutrients.items():\n",
    "    count = len(key_nutrient_data[key_nutrient_data['nutrient_id'] == nutrient_id])\n",
    "    print(f\"   {name:15s}: {count:,} products\")"
   ]
  },
  {
   "cell_type": "markdown",
   "id": "8fc4f2df",
   "metadata": {},
   "source": [
    "## Temporal Analysis"
   ]
  },
  {
   "cell_type": "code",
   "execution_count": 10,
   "id": "aa694cd8",
   "metadata": {},
   "outputs": [
    {
     "name": "stdout",
     "output_type": "stream",
     "text": [
      "Saved products_by_year as both HTML and PNG\n"
     ]
    },
    {
     "data": {
      "application/vnd.plotly.v1+json": {
       "config": {
        "plotlyServerURL": "https://plot.ly"
       },
       "data": [
        {
         "hovertemplate": "Year=%{x}<br>Number of Products=%{y}<extra></extra>",
         "legendgroup": "",
         "line": {
          "color": "#636efa",
          "dash": "solid"
         },
         "marker": {
          "symbol": "circle"
         },
         "mode": "lines",
         "name": "",
         "orientation": "v",
         "showlegend": false,
         "type": "scatter",
         "x": {
          "bdata": "4wcAAOQHAADlBwAA5gcAAOcHAADoBwAA6QcAAA==",
          "dtype": "i4"
         },
         "xaxis": "x",
         "y": {
          "bdata": "r/QEAIQYAwDoOg8AavUCAIZ3AwA8aAAA7w4AAA==",
          "dtype": "i4"
         },
         "yaxis": "y"
        }
       ],
       "layout": {
        "height": 400,
        "legend": {
         "tracegroupgap": 0
        },
        "template": {
         "data": {
          "bar": [
           {
            "error_x": {
             "color": "#2a3f5f"
            },
            "error_y": {
             "color": "#2a3f5f"
            },
            "marker": {
             "line": {
              "color": "#E5ECF6",
              "width": 0.5
             },
             "pattern": {
              "fillmode": "overlay",
              "size": 10,
              "solidity": 0.2
             }
            },
            "type": "bar"
           }
          ],
          "barpolar": [
           {
            "marker": {
             "line": {
              "color": "#E5ECF6",
              "width": 0.5
             },
             "pattern": {
              "fillmode": "overlay",
              "size": 10,
              "solidity": 0.2
             }
            },
            "type": "barpolar"
           }
          ],
          "carpet": [
           {
            "aaxis": {
             "endlinecolor": "#2a3f5f",
             "gridcolor": "white",
             "linecolor": "white",
             "minorgridcolor": "white",
             "startlinecolor": "#2a3f5f"
            },
            "baxis": {
             "endlinecolor": "#2a3f5f",
             "gridcolor": "white",
             "linecolor": "white",
             "minorgridcolor": "white",
             "startlinecolor": "#2a3f5f"
            },
            "type": "carpet"
           }
          ],
          "choropleth": [
           {
            "colorbar": {
             "outlinewidth": 0,
             "ticks": ""
            },
            "type": "choropleth"
           }
          ],
          "contour": [
           {
            "colorbar": {
             "outlinewidth": 0,
             "ticks": ""
            },
            "colorscale": [
             [
              0,
              "#0d0887"
             ],
             [
              0.1111111111111111,
              "#46039f"
             ],
             [
              0.2222222222222222,
              "#7201a8"
             ],
             [
              0.3333333333333333,
              "#9c179e"
             ],
             [
              0.4444444444444444,
              "#bd3786"
             ],
             [
              0.5555555555555556,
              "#d8576b"
             ],
             [
              0.6666666666666666,
              "#ed7953"
             ],
             [
              0.7777777777777778,
              "#fb9f3a"
             ],
             [
              0.8888888888888888,
              "#fdca26"
             ],
             [
              1,
              "#f0f921"
             ]
            ],
            "type": "contour"
           }
          ],
          "contourcarpet": [
           {
            "colorbar": {
             "outlinewidth": 0,
             "ticks": ""
            },
            "type": "contourcarpet"
           }
          ],
          "heatmap": [
           {
            "colorbar": {
             "outlinewidth": 0,
             "ticks": ""
            },
            "colorscale": [
             [
              0,
              "#0d0887"
             ],
             [
              0.1111111111111111,
              "#46039f"
             ],
             [
              0.2222222222222222,
              "#7201a8"
             ],
             [
              0.3333333333333333,
              "#9c179e"
             ],
             [
              0.4444444444444444,
              "#bd3786"
             ],
             [
              0.5555555555555556,
              "#d8576b"
             ],
             [
              0.6666666666666666,
              "#ed7953"
             ],
             [
              0.7777777777777778,
              "#fb9f3a"
             ],
             [
              0.8888888888888888,
              "#fdca26"
             ],
             [
              1,
              "#f0f921"
             ]
            ],
            "type": "heatmap"
           }
          ],
          "histogram": [
           {
            "marker": {
             "pattern": {
              "fillmode": "overlay",
              "size": 10,
              "solidity": 0.2
             }
            },
            "type": "histogram"
           }
          ],
          "histogram2d": [
           {
            "colorbar": {
             "outlinewidth": 0,
             "ticks": ""
            },
            "colorscale": [
             [
              0,
              "#0d0887"
             ],
             [
              0.1111111111111111,
              "#46039f"
             ],
             [
              0.2222222222222222,
              "#7201a8"
             ],
             [
              0.3333333333333333,
              "#9c179e"
             ],
             [
              0.4444444444444444,
              "#bd3786"
             ],
             [
              0.5555555555555556,
              "#d8576b"
             ],
             [
              0.6666666666666666,
              "#ed7953"
             ],
             [
              0.7777777777777778,
              "#fb9f3a"
             ],
             [
              0.8888888888888888,
              "#fdca26"
             ],
             [
              1,
              "#f0f921"
             ]
            ],
            "type": "histogram2d"
           }
          ],
          "histogram2dcontour": [
           {
            "colorbar": {
             "outlinewidth": 0,
             "ticks": ""
            },
            "colorscale": [
             [
              0,
              "#0d0887"
             ],
             [
              0.1111111111111111,
              "#46039f"
             ],
             [
              0.2222222222222222,
              "#7201a8"
             ],
             [
              0.3333333333333333,
              "#9c179e"
             ],
             [
              0.4444444444444444,
              "#bd3786"
             ],
             [
              0.5555555555555556,
              "#d8576b"
             ],
             [
              0.6666666666666666,
              "#ed7953"
             ],
             [
              0.7777777777777778,
              "#fb9f3a"
             ],
             [
              0.8888888888888888,
              "#fdca26"
             ],
             [
              1,
              "#f0f921"
             ]
            ],
            "type": "histogram2dcontour"
           }
          ],
          "mesh3d": [
           {
            "colorbar": {
             "outlinewidth": 0,
             "ticks": ""
            },
            "type": "mesh3d"
           }
          ],
          "parcoords": [
           {
            "line": {
             "colorbar": {
              "outlinewidth": 0,
              "ticks": ""
             }
            },
            "type": "parcoords"
           }
          ],
          "pie": [
           {
            "automargin": true,
            "type": "pie"
           }
          ],
          "scatter": [
           {
            "fillpattern": {
             "fillmode": "overlay",
             "size": 10,
             "solidity": 0.2
            },
            "type": "scatter"
           }
          ],
          "scatter3d": [
           {
            "line": {
             "colorbar": {
              "outlinewidth": 0,
              "ticks": ""
             }
            },
            "marker": {
             "colorbar": {
              "outlinewidth": 0,
              "ticks": ""
             }
            },
            "type": "scatter3d"
           }
          ],
          "scattercarpet": [
           {
            "marker": {
             "colorbar": {
              "outlinewidth": 0,
              "ticks": ""
             }
            },
            "type": "scattercarpet"
           }
          ],
          "scattergeo": [
           {
            "marker": {
             "colorbar": {
              "outlinewidth": 0,
              "ticks": ""
             }
            },
            "type": "scattergeo"
           }
          ],
          "scattergl": [
           {
            "marker": {
             "colorbar": {
              "outlinewidth": 0,
              "ticks": ""
             }
            },
            "type": "scattergl"
           }
          ],
          "scattermap": [
           {
            "marker": {
             "colorbar": {
              "outlinewidth": 0,
              "ticks": ""
             }
            },
            "type": "scattermap"
           }
          ],
          "scattermapbox": [
           {
            "marker": {
             "colorbar": {
              "outlinewidth": 0,
              "ticks": ""
             }
            },
            "type": "scattermapbox"
           }
          ],
          "scatterpolar": [
           {
            "marker": {
             "colorbar": {
              "outlinewidth": 0,
              "ticks": ""
             }
            },
            "type": "scatterpolar"
           }
          ],
          "scatterpolargl": [
           {
            "marker": {
             "colorbar": {
              "outlinewidth": 0,
              "ticks": ""
             }
            },
            "type": "scatterpolargl"
           }
          ],
          "scatterternary": [
           {
            "marker": {
             "colorbar": {
              "outlinewidth": 0,
              "ticks": ""
             }
            },
            "type": "scatterternary"
           }
          ],
          "surface": [
           {
            "colorbar": {
             "outlinewidth": 0,
             "ticks": ""
            },
            "colorscale": [
             [
              0,
              "#0d0887"
             ],
             [
              0.1111111111111111,
              "#46039f"
             ],
             [
              0.2222222222222222,
              "#7201a8"
             ],
             [
              0.3333333333333333,
              "#9c179e"
             ],
             [
              0.4444444444444444,
              "#bd3786"
             ],
             [
              0.5555555555555556,
              "#d8576b"
             ],
             [
              0.6666666666666666,
              "#ed7953"
             ],
             [
              0.7777777777777778,
              "#fb9f3a"
             ],
             [
              0.8888888888888888,
              "#fdca26"
             ],
             [
              1,
              "#f0f921"
             ]
            ],
            "type": "surface"
           }
          ],
          "table": [
           {
            "cells": {
             "fill": {
              "color": "#EBF0F8"
             },
             "line": {
              "color": "white"
             }
            },
            "header": {
             "fill": {
              "color": "#C8D4E3"
             },
             "line": {
              "color": "white"
             }
            },
            "type": "table"
           }
          ]
         },
         "layout": {
          "annotationdefaults": {
           "arrowcolor": "#2a3f5f",
           "arrowhead": 0,
           "arrowwidth": 1
          },
          "autotypenumbers": "strict",
          "coloraxis": {
           "colorbar": {
            "outlinewidth": 0,
            "ticks": ""
           }
          },
          "colorscale": {
           "diverging": [
            [
             0,
             "#8e0152"
            ],
            [
             0.1,
             "#c51b7d"
            ],
            [
             0.2,
             "#de77ae"
            ],
            [
             0.3,
             "#f1b6da"
            ],
            [
             0.4,
             "#fde0ef"
            ],
            [
             0.5,
             "#f7f7f7"
            ],
            [
             0.6,
             "#e6f5d0"
            ],
            [
             0.7,
             "#b8e186"
            ],
            [
             0.8,
             "#7fbc41"
            ],
            [
             0.9,
             "#4d9221"
            ],
            [
             1,
             "#276419"
            ]
           ],
           "sequential": [
            [
             0,
             "#0d0887"
            ],
            [
             0.1111111111111111,
             "#46039f"
            ],
            [
             0.2222222222222222,
             "#7201a8"
            ],
            [
             0.3333333333333333,
             "#9c179e"
            ],
            [
             0.4444444444444444,
             "#bd3786"
            ],
            [
             0.5555555555555556,
             "#d8576b"
            ],
            [
             0.6666666666666666,
             "#ed7953"
            ],
            [
             0.7777777777777778,
             "#fb9f3a"
            ],
            [
             0.8888888888888888,
             "#fdca26"
            ],
            [
             1,
             "#f0f921"
            ]
           ],
           "sequentialminus": [
            [
             0,
             "#0d0887"
            ],
            [
             0.1111111111111111,
             "#46039f"
            ],
            [
             0.2222222222222222,
             "#7201a8"
            ],
            [
             0.3333333333333333,
             "#9c179e"
            ],
            [
             0.4444444444444444,
             "#bd3786"
            ],
            [
             0.5555555555555556,
             "#d8576b"
            ],
            [
             0.6666666666666666,
             "#ed7953"
            ],
            [
             0.7777777777777778,
             "#fb9f3a"
            ],
            [
             0.8888888888888888,
             "#fdca26"
            ],
            [
             1,
             "#f0f921"
            ]
           ]
          },
          "colorway": [
           "#636efa",
           "#EF553B",
           "#00cc96",
           "#ab63fa",
           "#FFA15A",
           "#19d3f3",
           "#FF6692",
           "#B6E880",
           "#FF97FF",
           "#FECB52"
          ],
          "font": {
           "color": "#2a3f5f"
          },
          "geo": {
           "bgcolor": "white",
           "lakecolor": "white",
           "landcolor": "#E5ECF6",
           "showlakes": true,
           "showland": true,
           "subunitcolor": "white"
          },
          "hoverlabel": {
           "align": "left"
          },
          "hovermode": "closest",
          "mapbox": {
           "style": "light"
          },
          "paper_bgcolor": "white",
          "plot_bgcolor": "#E5ECF6",
          "polar": {
           "angularaxis": {
            "gridcolor": "white",
            "linecolor": "white",
            "ticks": ""
           },
           "bgcolor": "#E5ECF6",
           "radialaxis": {
            "gridcolor": "white",
            "linecolor": "white",
            "ticks": ""
           }
          },
          "scene": {
           "xaxis": {
            "backgroundcolor": "#E5ECF6",
            "gridcolor": "white",
            "gridwidth": 2,
            "linecolor": "white",
            "showbackground": true,
            "ticks": "",
            "zerolinecolor": "white"
           },
           "yaxis": {
            "backgroundcolor": "#E5ECF6",
            "gridcolor": "white",
            "gridwidth": 2,
            "linecolor": "white",
            "showbackground": true,
            "ticks": "",
            "zerolinecolor": "white"
           },
           "zaxis": {
            "backgroundcolor": "#E5ECF6",
            "gridcolor": "white",
            "gridwidth": 2,
            "linecolor": "white",
            "showbackground": true,
            "ticks": "",
            "zerolinecolor": "white"
           }
          },
          "shapedefaults": {
           "line": {
            "color": "#2a3f5f"
           }
          },
          "ternary": {
           "aaxis": {
            "gridcolor": "white",
            "linecolor": "white",
            "ticks": ""
           },
           "baxis": {
            "gridcolor": "white",
            "linecolor": "white",
            "ticks": ""
           },
           "bgcolor": "#E5ECF6",
           "caxis": {
            "gridcolor": "white",
            "linecolor": "white",
            "ticks": ""
           }
          },
          "title": {
           "x": 0.05
          },
          "xaxis": {
           "automargin": true,
           "gridcolor": "white",
           "linecolor": "white",
           "ticks": "",
           "title": {
            "standoff": 15
           },
           "zerolinecolor": "white",
           "zerolinewidth": 2
          },
          "yaxis": {
           "automargin": true,
           "gridcolor": "white",
           "linecolor": "white",
           "ticks": "",
           "title": {
            "standoff": 15
           },
           "zerolinecolor": "white",
           "zerolinewidth": 2
          }
         }
        },
        "title": {
         "text": "Number of Products by Year Available"
        },
        "xaxis": {
         "anchor": "y",
         "domain": [
          0,
          1
         ],
         "title": {
          "text": "Year"
         }
        },
        "yaxis": {
         "anchor": "x",
         "domain": [
          0,
          1
         ],
         "title": {
          "text": "Number of Products"
         }
        }
       }
      }
     },
     "metadata": {},
     "output_type": "display_data"
    },
    {
     "name": "stdout",
     "output_type": "stream",
     "text": [
      " Temporal Data Overview:\n",
      "   Date range: 2019-04-01 00:00:00 to 2025-04-24 00:00:00\n",
      "   Peak year: 2021 (998,120 products)\n"
     ]
    }
   ],
   "source": [
    "# Convert date columns\n",
    "date_columns = ['modified_date', 'available_date', 'discontinued_date']\n",
    "for col in date_columns:\n",
    "    if col in branded_df.columns:\n",
    "        branded_df[col] = pd.to_datetime(branded_df[col], errors='coerce')\n",
    "\n",
    "# Products by year (using available_date)\n",
    "if 'available_date' in branded_df.columns:\n",
    "    branded_df['year_available'] = branded_df['available_date'].dt.year\n",
    "    yearly_products = branded_df['year_available'].value_counts().sort_index()\n",
    "    \n",
    "    # Plot temporal trends\n",
    "    fig = px.line(\n",
    "        x=yearly_products.index,\n",
    "        y=yearly_products.values,\n",
    "        title=\"Number of Products by Year Available\",\n",
    "        labels={'x': 'Year', 'y': 'Number of Products'}\n",
    "    )\n",
    "    fig.update_layout(height=400)\n",
    "    \n",
    "    # Save in both formats\n",
    "    save_plotly_figure(fig, 'products_by_year')\n",
    "    \n",
    "    print(f\" Temporal Data Overview:\")\n",
    "    print(f\"   Date range: {branded_df['available_date'].min()} to {branded_df['available_date'].max()}\")\n",
    "    print(f\"   Peak year: {yearly_products.idxmax()} ({yearly_products.max():,} products)\")"
   ]
  },
  {
   "cell_type": "markdown",
   "id": "aca80360",
   "metadata": {},
   "source": [
    "## EDA Summary & Next Steps\n",
    "\n",
    "### Key Findings:\n",
    "1. **Dataset Size**: Large-scale dataset with 600k+ branded food products\n",
    "2. **Data Quality**: Varying levels of completeness across fields\n",
    "3. **Brand Distribution**: Highly concentrated with top brands dominating\n",
    "4. **Categories**: Diverse food categories with clear market segments\n",
    "5. **Nutritional Coverage**: Comprehensive nutrition data available\n",
    "\n",
    "### Recommendations for Feature Engineering:\n",
    "1. **Ingredient Processing**: Clean and standardize ingredient lists\n",
    "2. **Nutritional Scoring**: Develop health scores based on nutrients\n",
    "3. **Brand Analysis**: Create brand reputation features\n",
    "4. **Temporal Features**: Extract trends and seasonal patterns\n",
    "5. **Category Encoding**: Develop category-specific features\n",
    "\n",
    "**Next Notebook**: `02_Preprocessing.ipynb` - Data cleaning and preparation"
   ]
  }
 ],
 "metadata": {
  "kernelspec": {
   "display_name": ".venv",
   "language": "python",
   "name": "python3"
  },
  "language_info": {
   "codemirror_mode": {
    "name": "ipython",
    "version": 3
   },
   "file_extension": ".py",
   "mimetype": "text/x-python",
   "name": "python",
   "nbconvert_exporter": "python",
   "pygments_lexer": "ipython3",
   "version": "3.9.6"
  }
 },
 "nbformat": 4,
 "nbformat_minor": 5
}
